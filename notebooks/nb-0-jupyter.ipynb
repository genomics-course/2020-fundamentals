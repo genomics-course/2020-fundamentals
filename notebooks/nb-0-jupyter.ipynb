{
 "cells": [
  {
   "cell_type": "markdown",
   "metadata": {},
   "source": [
    "# Notebook 0: Jupyter notebooks\n",
    "\n",
    "This document will introduce [jupyter notebooks](https://jupyter.org/), a web browser-based tool for combining executable code and formatted text. \n",
    "\n",
    "### Learning objectives\n",
    "By the end of this notebook you will: \n",
    "\n",
    "1. Be familiar with how to use jupyter notebooks.\n",
    "2. Know how to edit Markdown text in notebook cells. \n",
    "3. Know how to execute Python code in notebook cells. "
   ]
  },
  {
   "cell_type": "markdown",
   "metadata": {},
   "source": [
    "### Jupyter notebooks \n",
    "A Jupyter Notebook is a powerful data science tool. It allows you to use a web browser (as opposed to a terminal or other software) to interact with a computer language interpreter (typically Python) to send commands and receive outputs. The content of a notebook is organized into discrete *cells*, each of which can contain either code or text. These are usually interspersed to create documents that combine cells with textual instructions and explanations inbetween cells with executable code. \n",
    "\n",
    "Text can be styled using [Markdown](https://en.wikipedia.org/wiki/Markdown) to improve presentation (more on this below), and code is displayed nicely with syntax highlighting which colors different code elements to make them more easily recognizable. Outputs from the interpreter (e.g., Python) such as returned values, tables, or plots, are displayed in HTML below executed cells. Both text and code can be edited and executed, creating an interactive document that can be easily shared online."
   ]
  },
  {
   "cell_type": "markdown",
   "metadata": {},
   "source": [
    "### Markdown cells\n",
    "\n",
    "Markdown is a simple language/method for *styling* text in web-based documents. The text you see above is written in Markdown, which provided a simple way to create large and bold font in headers, bullet points, and links. You can double-click on any Markdown cell to see the underlying *code* that creates the styled text. This can be a great way to learn Markdown, by reading examples. In addition, it will be useful to read through a full [Markdown tutorial](https://guides.github.com/features/mastering-markdown/) sometime to see the full capabilities of this language (though you don't need to do so right now). "
   ]
  },
  {
   "cell_type": "markdown",
   "metadata": {},
   "source": [
    "### Example: editing Markdown cells\n",
    "To edit a cell you must first select it. Do this by hovering over it with your cursor and clicking on the cell. You should see a thin rectangle appear around the cell which will appear either blue or green. A blue outline indicates the cell has been selected whereas a green outline indicates you have entered 'editing mode', such that you can change the contents of the cell.\n",
    "\n",
    "Double click on a cell to enter 'editing mode' and edit its contents. Try this with the cell below this one. You will see the cell expand and the text will appear as plain text as opposed to *rendered text*. You can then edit the content. When finished editing you will need to *execute* the cell again to return the text to its rendered state. To execute a notebook cell hold the shift key down and press enter: <kbd>shift</kbd> + <kbd>enter</kbd>. You can also double-click this cell to examine the Markdown, which includes an example of how I created the key-stroke buttons for shift and enter. \n",
    "\n",
    "<div class=\"alert alert-success\">\n",
    "    <b>Action:</b> In the markdown cell below try to convert the top line of text into a level-3 header (large and bold text) by double clicking on the cell so that you can interact with the text, and then adding three hash marks (#) before the first line without any spaces separating the hash marks, and with one space between the hashes and the text. When you edit and execute the cell you should see large bold formatted text on the first line, followed by normal formatted text for the second line. If not, try editing the text again, you may have included spaces, or other errors. \n",
    "</div>"
   ]
  },
  {
   "cell_type": "markdown",
   "metadata": {},
   "source": [
    "My first executed Markdown cell\n",
    "\n",
    "The text on the line above this is a level-3 header."
   ]
  },
  {
   "cell_type": "markdown",
   "metadata": {},
   "source": [
    "### Code cells\n",
    "In the toolbar menu you can find options to change the *type* of cells. The two main types we are interested in are Markdown cells, as you just saw above, and *Code* cells, which are used to execute code. Execute the Code cell below by selecting the cell with you cursor and pressing <kbd>shift</kbd> + <kbd>enter</kbd>. You should see a value returned in the output region below the cell. This is a simple snippet of Python code. You can edit the code, for example by changing the value of `x` from 3 to 5, and re-execute the cell, and you will see a different value in the output. "
   ]
  },
  {
   "cell_type": "code",
   "execution_count": 1,
   "metadata": {},
   "outputs": [
    {
     "name": "stdout",
     "output_type": "stream",
     "text": [
      "3\n"
     ]
    }
   ],
   "source": [
    "# store value to the variable x\n",
    "x = 3\n",
    "\n",
    "# print the variable x\n",
    "print(x)"
   ]
  },
  {
   "cell_type": "markdown",
   "metadata": {},
   "source": [
    "### That's it, you are now ready to use jupyter notebooks\n",
    "Please close this notebook and proceed to the next one, nb-1. If you had trouble executing the code in this notebook and think you may be having technical difficulties please contact the instructors. "
   ]
  }
 ],
 "metadata": {
  "kernelspec": {
   "display_name": "Python 3",
   "language": "python",
   "name": "python3"
  },
  "language_info": {
   "codemirror_mode": {
    "name": "ipython",
    "version": 3
   },
   "file_extension": ".py",
   "mimetype": "text/x-python",
   "name": "python",
   "nbconvert_exporter": "python",
   "pygments_lexer": "ipython3",
   "version": "3.9.7"
  }
 },
 "nbformat": 4,
 "nbformat_minor": 2
}

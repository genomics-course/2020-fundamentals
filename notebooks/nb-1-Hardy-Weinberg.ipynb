{
 "cells": [
  {
   "cell_type": "markdown",
   "metadata": {},
   "source": [
    "# Notebook 1: Hardy Weinberg\n",
    "\n",
    "This notebook will introduce the concept of Hardy-Weinberg equilibrium, and related concepts, through a simple coding exercise in Python. You will not need to have any prior experience with reading or writing Python code in order to complete or understand the exercise. Simply read through the instructions and execute code cells as you come to them, in order, from top to bottom. \n",
    "\n",
    "\n",
    "### Topics outline:\n",
    "1. Idealized populations and Hardy Weinberg\n",
    "2. Hardy Weinberg as a binomial sampling problem\n",
    "3. Sampling error and genetic drift.\n",
    "\n",
    "\n",
    "### Learning objectives: \n",
    "By the end of this notebook you should:\n",
    "1. Know which assumptions underlie the definition of an 'idealized population'\n",
    "2. Understand why allele frequencies do not change in the absence of evolutionary processes.\n",
    "3. Be able to calculate genotype frequencies under Hardy-Weinberg equilibrium given allele frequencies at a locus.\n",
    "4. Understand why violations of the Hardy-Weinberg assumptions cause allele frequencies to change over generations.\n",
    "\n",
    "### Optional further reading:\n",
    "\n",
    "- Chapter 4 of Futuyma 4th edition"
   ]
  },
  {
   "cell_type": "markdown",
   "metadata": {},
   "source": [
    "## Genetic variation in populations\n",
    "For the examples in this notebook we will focus on variation at a single gene (A) that has two alleles (A$_1$ and A$_2$) in a single population. If a new mutation arose at this gene then we could consider additional alleles, such as A$_3$, but for simplicity we will assume only two alleles exist in the population. In fact, these types of simplifying assumptions are the subject of this notebook."
   ]
  },
  {
   "cell_type": "markdown",
   "metadata": {},
   "source": [
    "## Assumptions of an idealized population\n",
    "\n",
    "Population genetics is the study of allele frequency change in populations. Amazingly, much of the foundational work in this field, developed during the Modern Synthesis, was developed *even before we knew about DNA*, and involved only combining probability and statistics with Mendel's theory of [particulate (non-blending) inheritance](https://en.wikipedia.org/wiki/Mendelian_inheritance). \n",
    "\n",
    "Mendel showed that genes are discrete units composed of multiple alleles. The two alleles in a diploid organism *segregate* during the formation of gametes, such that each has equal probability of being inherited by a diploid offspring. He also showed that alleles from different genes sort into gametes *independently*. These simple rules of segregation and independent assortment can be formalized as probability statements about allele frequencies from one generation to the next.\n",
    "\n",
    "However, for this, we need to first make some assumptions about the makeup of populations. An *idealized population* refers to a theoretical population that meets a number of unrealistic but useful assumptions. Most notably, that it is of *infinite size* and that the individuals within it are *randomly mating*. As we will see, these and other assumptions can be relaxed to allow for further insights into their effect on the model. Overall, the purpose of these population genetic models is to understand how and why allele frequencies (i.e., the relative abundance of A$_1$ versus A$_2$) change over time."
   ]
  },
  {
   "cell_type": "markdown",
   "metadata": {},
   "source": [
    "## Hardy-Weinberg \n",
    "The [*Hardy-Weinberg* equilibrium](https://en.wikipedia.org/wiki/Hardy%E2%80%93Weinberg_principle) is a statement that **the frequencies of alleles (variants at a gene in a population) and genotypes (e.g., combinations of two alleles present together in diploid individuals in a population) will remain constant** through time in an *idealized population* in the absence of <span style=\"color:red\">selection, mutation, migration, and genetic drift.</span> \n",
    "\n",
    "This is not actually a super surprising statement in terms of statistics, but more so in terms of evolution. It is identifying that <span style=\"color:red\">these processes are fundamental to explaining why allele frequencies change over time</span>, and also, that the process of *segregation of alleles* during Meiosis (i.e., Mendelian Inheritance) is not expected to change allele frequencies on its own. The concept of Hardy Weinberg equilibrium is demonstrated in the figure below from Chapter 4 of your textbook.\n",
    "\n",
    "<img src=https://eaton-lab.org/slides/fundamentals2019/session-9-popgen/data/hardy-weinberg.png style=\"width:60%\">\n",
    "\n",
    "\n",
    "<p style=\"text-align:center\">(Image source: Futuyma 4th Edition)</p>"
   ]
  },
  {
   "cell_type": "markdown",
   "metadata": {},
   "source": [
    "### Hardy-Weinberg Expectation: \n",
    "In the first cell of the figure above the population is initially not in Hardy-Weinberg equilibrium. We can tell this by looking at the genotype frequencies. There appears to be a deficit of heterozygotes. *But what is the null expectation for the number of heterozygotes that should exist?* Well, this is what Hardy-Weinberg can tell us. To answer that question we need to calculate the genotype frequencies after just *one generation of random mating in an infinite-sized population*. (Here we will do this by starting from the allele frequencies that exist in the current population, but as we will see later, the resulting genotype frequencies depends only on the starting allele frequencies, and will end up at the same equilibrium genotype frequencies regardless of the starting genotype frequencies.)\n",
    "\n",
    "After a single generation the **genotype frequencies** (e.g., A$_1$A$_1$, A$_1$A$_2$, and A$_2$A$_2$) will reach HW equilibrium, despite the fact that **allele frequencies** (e.g., A$_1$ and A$_2$) will not change. This expectation can be computed exactly using probability (here I will use the same genotype frequencies as in the figure above, but change the allele names to A and B, rather than A$_1$ and A$_2$ to make it easier to type in Python."
   ]
  },
  {
   "cell_type": "code",
   "execution_count": null,
   "metadata": {},
   "outputs": [],
   "source": [
    "# (panel A) diploid genotype frequencies in the initial population\n",
    "AA = 0.3\n",
    "AB = 0.0\n",
    "BB = 0.7"
   ]
  },
  {
   "cell_type": "markdown",
   "metadata": {},
   "source": [
    "Now let's measure the allele frequencies. Each AA parent contains two A alleles, each AB parent contains one A and one B allele, and each BB parent contains two B alleles. Based on this simple fact we can calculate the relative frequency of A and B alleles in the population, which we label **p** and **q**. For example, p is equal to the frequency of AA homozygotes plus 1/2 the frequency of heterozygotes; q is equal to the frequency of BB homozygotes plus 1/2 the frequency of heterozygotes. Knowing the allele frequencies in the parent population we also know the alleles frequencies in the gametes that they produce, since the two alleles from each parent segregate equally among their gametes. \n",
    "\n",
    "Note: because only two alleles exist in our simple model every gene copy must be either A or B, and thus `q = (1 - p)`.  \n",
    "\n",
    "You might ask, but what if some of the diploid individuals produced more gametes than others? Well, for that to happen would be a manifestation of either drift or selection, both of which we assume to be absent from an *idealized population*. These assumptions are key to remember."
   ]
  },
  {
   "cell_type": "code",
   "execution_count": null,
   "metadata": {},
   "outputs": [],
   "source": [
    "# (panel B) get allele freqs from diploid parents \n",
    "p = AA + (AB / 2)\n",
    "q = BB + (AB / 2)\n",
    "\n",
    "# show result\n",
    "print(f\"p={p}, q={q}\")"
   ]
  },
  {
   "cell_type": "markdown",
   "metadata": {},
   "source": [
    "Now that we know the frequency of alleles in the gametes we can calculate the frequency of genotypes formed in the next generation *by assuming that populations are randomly mating*. AA genotypes will occur with probability of sampling p twice (`p * p`), heterozygotes are the probability of sampling either p and q, or q and p, and so is (`2 * p * q`), and BB homozygotes are the probability of sampling q twice (`q * q`). Once again, note the importance of the assumptions underlying our idealized population for this model prediction."
   ]
  },
  {
   "cell_type": "code",
   "execution_count": null,
   "metadata": {},
   "outputs": [],
   "source": [
    "# (panel C) HW states that: p**2 + 2pq + q**2 = 1\n",
    "newAA = p * p\n",
    "newAB = 2 * p * q\n",
    "newBB = q * q\n",
    "\n",
    "# (panel D) note the *genotype frequencies* have changed in the new generation\n",
    "print(f\"AA={newAA}, AB={newAB}, BB={newBB:.2g}\")"
   ]
  },
  {
   "cell_type": "markdown",
   "metadata": {},
   "source": [
    "We can see that the new genotype frequencies are different from the previous generation, and they match the result in the figure. An important point is that after only one generation they have reached an *equilibrium*, meaning that we can repeat this same calculation for the next generation and the genotype and allele frequencies will not change further. "
   ]
  },
  {
   "cell_type": "code",
   "execution_count": null,
   "metadata": {},
   "outputs": [],
   "source": [
    "# (panel A->B again) it is important to note that the *allele frequencies* have NOT changed\n",
    "p = newAA + (newAB / 2)\n",
    "q = newBB + (newAB / 2)\n",
    "print(f\"p={p}, q={q}\")"
   ]
  },
  {
   "cell_type": "markdown",
   "metadata": {},
   "source": [
    "## Mendelian segregation and Binomial sampling\n",
    "One reason I stated in the beginning that the Hardy-Weinberg concept is not surprising from a statistical viewpoint is that it can be described by a very simple and common model in statistics, known as a *Binomial distribution*. A *Binomial* distribution is used in statistics to model the probability of binary outcomes (e.g., True vs. False). \n",
    "\n",
    "For a diploid organism, we can describe the three possible genotypes (A$_1$A$_1$, A$_1$A$_2$, and A$_2$A$_2$) at a locus with two alleles as the probability of sampling the A1 allele or not sampling the A1 allele in two independent trials (we do two trials because a diploid organism has two allele copies). Below this is demonstrated. "
   ]
  },
  {
   "cell_type": "code",
   "execution_count": null,
   "metadata": {},
   "outputs": [],
   "source": [
    "# we first need to load the numpy statistical library and a plotting library\n",
    "import numpy\n",
    "import toyplot"
   ]
  },
  {
   "cell_type": "markdown",
   "metadata": {},
   "source": [
    "#### Example of a random binomial sample\n",
    "Let's first take a look at what a random binomial sample looks like. Here we use the `numpy.random.binomial` function to sample a random outcome. We give it parameter arguments to specify the number of samples to draw (`n=1`), and we give it the probability of a successful outcome (`p=0.3`), and finally we can request how many replicate outcomes of this process we want to observe (`size=20`). \n",
    "\n",
    "You can see that it produces an array of random outcomes. You can execute this cell multiple times and each will yield a slightly different outcome, but with the same probability of a 0 versus 1 for each sample. Try changing the `p` or `size` parameter arguments to see how they affect the result.\n",
    "\n",
    "You can consider this process as akin to randomly sampling 20 gametes from our idealized population at a single locus with two alleles where the allele frequencies are (p=0.3, q=0.7). Every time a 0 comes up it represents an A allele, every time a 1 comes up it represents a B allele. "
   ]
  },
  {
   "cell_type": "code",
   "execution_count": null,
   "metadata": {},
   "outputs": [],
   "source": [
    "# then call the binomial function to draw a random sample\n",
    "numpy.random.binomial(n=1, p=0.3, size=20)"
   ]
  },
  {
   "cell_type": "markdown",
   "metadata": {},
   "source": [
    "#### Sampling diploid genotypes\n",
    "Now we can also use this random sampling process to emulate the process of *random mating*, an assumption of our idealized population. Here we are concerned with randomly sampling two alleles at a time to join together to form new diploid individuals in the next generation. \n",
    "\n",
    "A simple way to do this using the `numpy.random.binomial` function is to increase the parameter for the number of samples in each draw to (`n=2`). (Note: We could alternatively do something similar by using a *multinomial* sampling function, but that is not important.) By setting this parameter to two we are telling it to sample 0 or 1 two times for each sample, and to return the sum. A result of 0 means that it sampled 0 both times; a result of 1 means it sampled a 0 and a 1, and a result of 2 means that it sampled 1 twice. Go ahead and try this out in the cell below. Once again, execute the cell several times to see several random outcomes."
   ]
  },
  {
   "cell_type": "code",
   "execution_count": null,
   "metadata": {},
   "outputs": [],
   "source": [
    "numpy.random.binomial(n=2, p=0.3, size=20)"
   ]
  },
  {
   "cell_type": "markdown",
   "metadata": {},
   "source": [
    "OK, now let's try using this random method of sampling diploid genotypes, given the allele frequencies, to see what the outcome will be when the sample size is very large (100K). "
   ]
  },
  {
   "cell_type": "code",
   "execution_count": null,
   "metadata": {},
   "outputs": [],
   "source": [
    "# OK, now let's use this to sample a large number of diploid samples,\n",
    "# these look just like above, a collection of 0s, 1s and 2s. But we save the\n",
    "# outcome to a variable named `new_genotypes`\n",
    "sampled_genotypes = numpy.random.binomial(n=2, p=0.3, size=100000)\n",
    "\n",
    "# and calculate genotype frequencies \n",
    "sampled_BB = sum(sampled_genotypes == 0) / len(sampled_genotypes)\n",
    "sampled_AB = sum(sampled_genotypes == 1) / len(sampled_genotypes)\n",
    "sampled_AA = sum(sampled_genotypes == 2) / len(sampled_genotypes)\n",
    "print(f\"AA={sampled_AA}, AB={sampled_AB}, BB={sampled_BB}\")"
   ]
  },
  {
   "cell_type": "markdown",
   "metadata": {},
   "source": [
    "### Deviating from Hardy Weinberg.\n",
    "You'll notice that the results above are *close* to the expectation we calculated earlier, and which appear in the figure, but *not exactly the same*. This is because even though we sampled a very large number of randomly formed genotypes (100K), there is still a small amount of sampling error that can cause slight deviations from the expectation. \n",
    "\n",
    "This is an example of **genetic drift**. And it brings us to our next subject."
   ]
  },
  {
   "cell_type": "markdown",
   "metadata": {},
   "source": [
    "## Genetic drift is sampling error\n",
    "The binomial sampling method allows us to approximate the change in allele frequencies over multiple generations that is expected to occur by genetic drift in a **finite sized population**. It is important to note that by using finite populations sizes (i.e., allowing for drift) we have violated the assumptions of the Hardy-Weinberg model, and thus both genotype and allele frequencies are now *expected* to change each generation. Our model now has an additional parameter, `N`, the number of gene copies in the population, which we can modify and see its effect on the results. \n",
    "\n",
    "Below we calculate the genotype frequencies after one generation when the population size is finite. We can see that the result is still very close to the HW expectation (our analytical result from earlier is: `AA=0.09, AB=0.42, BB=0.49`). When N is larger it will tend to be closer to the expectation, when it is smaller the genotype frequencies will tend to deviate further from the expectation calculated for an idealized population. Examine this by changing N and re-executing the cell several times. \n",
    "\n",
    "Each time this cell is executed it starts by sampling gametes from a population that is our initial starting state (p=0.3), and it is showing a possible outcome for the genotype frequencies after one generation of random mating in *finite* population. "
   ]
  },
  {
   "cell_type": "code",
   "execution_count": null,
   "metadata": {},
   "outputs": [],
   "source": [
    "# finite population size parameter (number of total gene copies) \n",
    "# (you can change this to a different integer number)\n",
    "N = 100000\n",
    "\n",
    "# randomly sample 2N genotypes from a gamete population of p=0.3 \n",
    "sampled_genotypes = numpy.random.binomial(n=2, p=0.3, size=2*N)\n",
    "\n",
    "# calculate and print genotype frequencies in new generation\n",
    "sampled_BB = sum(sampled_genotypes == 0) / len(sampled_genotypes)\n",
    "sampled_AB = sum(sampled_genotypes == 1) / len(sampled_genotypes)\n",
    "sampled_AA = sum(sampled_genotypes == 2) / len(sampled_genotypes)\n",
    "print(f\"AA={sampled_AA}, AB={sampled_AB}, BB={sampled_BB}\")"
   ]
  },
  {
   "cell_type": "markdown",
   "metadata": {},
   "source": [
    "### A random walk\n",
    "When we follow this process over multiple generations (as opposed to just one) the small changes to allele frequencies that can occur each generation can cumulatively lead to large changes in allele frequencies over time. Each generation the frequency `p` may increase or decrease simply by chance. Genetic drift is a random walk. An outcome of a random sampling process in a finite population.\n",
    "\n",
    "Eventually, if an allele reaches a frequency of 1 we say that it has become *fixed*, meaning that no other variant exists any longer. Alternatively, if it reaches a frequency of 0 then it has become lost (if only two alleles exist, which is our current assumption, this means the other alleles became fixed). We will sometimes use the term *fixed* to refer to the allele reaching either 0 or 1, simply meaning that variation no longer exists in the population at that gene."
   ]
  },
  {
   "cell_type": "markdown",
   "metadata": {},
   "source": [
    "### Simulating genetic drift"
   ]
  },
  {
   "cell_type": "markdown",
   "metadata": {},
   "source": [
    "Below I have written a function to repeat the binomial sampling process over multiple generations in order to simulate genetic drift over time. This simply takes the result from one generation of randomly sampling genotypes from a finite population of gametes, and then uses the allele frequencies in the new genotype population to create gametes for the next generation. In terms of Python code, this is implemented through a common process called a `for-loop`. This is implemented as a function, which we named `simulate()`. This will allow us to easily reuse this snippet of many times. Do not worry if the code below looks complex. The focus of this notebook is to learn about evolutionary processes, not coding."
   ]
  },
  {
   "cell_type": "code",
   "execution_count": null,
   "metadata": {},
   "outputs": [],
   "source": [
    "def simulate(N, p, time, reps=8):\n",
    "    \"\"\"Simulate genetic drift in a finite population and return a plot.\n",
    "    \n",
    "    This function uses random binomial sampling to create a new finite \n",
    "    population of size (2N) genotypes each generation for (time) generations,\n",
    "    starting from an initial allele frequency (p). \n",
    "    \n",
    "    Parameters\n",
    "    ----------\n",
    "    N: int\n",
    "        The number of haploid gene copies in the population.\n",
    "    p: float\n",
    "        The frequency of allele 1 (assuming that only two alleles exist).\n",
    "    time: int\n",
    "        The number of generations to simulate.\n",
    "    reps: int\n",
    "        The number of independent replicate simulations to perform.\n",
    "    \"\"\"\n",
    "    # get simulated array\n",
    "    afreq = numpy.zeros((reps, time))\n",
    "    afreq[:, 0] = p\n",
    "    for rep in range(reps):\n",
    "        for gen in range(time - 1):\n",
    "            genotypes = numpy.random.binomial(n=2, p=afreq[rep, gen], size=2*N)\n",
    "            freqB = genotypes.sum() / (len(genotypes) * 2)\n",
    "            afreq[rep, gen + 1] = freqB\n",
    "\n",
    "    # set 0 values to NaN so they are not plotted\n",
    "    afreq[afreq == 0] = numpy.nan\n",
    "        \n",
    "    # plot the replicates\n",
    "    canvas = toyplot.Canvas(width=500, height=275)\n",
    "    axes = canvas.cartesian(\n",
    "        xlabel=\"Generations\", ylabel=\"Frequency of allele 1 (p)\", ymin=0, ymax=1)\n",
    "    axes.plot(afreq.T, stroke_width=3, opacity=0.75)\n",
    "    axes.y.domain.show = False\n",
    "    axes.y.ticks.show = True\n",
    "    axes.x.ticks.show = True\n",
    "    return canvas"
   ]
  },
  {
   "cell_type": "code",
   "execution_count": null,
   "metadata": {},
   "outputs": [],
   "source": [
    "reps = 10\n",
    "time = 500\n",
    "\n",
    "afreq = numpy.zeros((reps, time))\n",
    "afreq[:, 0] = p\n",
    "for rep in range(reps):\n",
    "    for gen in range(time - 1):\n",
    "        genotypes = numpy.random.binomial(n=2, p=afreq[rep, gen], size=2*N)\n",
    "        freqB = genotypes.sum() / (len(genotypes) * 2)\n",
    "        afreq[rep, gen + 1] = freqB"
   ]
  },
  {
   "cell_type": "markdown",
   "metadata": {},
   "source": [
    "Execute the cell below to perform your first simulation. This example uses a population size of 500 gametes with the initial frequency of the A allele set to `p=0.3`. It performs 5 independent replicate simulations, each starting from the same frequency, but which end up with different outcomes by chance. Each outcome shows the frequency `p` after 1000 generations. \n",
    "\n",
    "You can run this simulation many times to see different random outcomes. Sometimes allele A will be lost, other times it will become fixed, and in other cases the locus will continue to have both A and B alleles at some frequency between 0-1 even after 1000 generations. \n",
    "\n",
    "Try changing some of the parameters of the simulation. Which settings seem to cause the allele to become fixed or lost more quickly? Which are more likely to make allele A persist for a long time?"
   ]
  },
  {
   "cell_type": "code",
   "execution_count": null,
   "metadata": {
    "scrolled": true
   },
   "outputs": [],
   "source": [
    "simulate(N=500, p=0.3, time=1000, reps=5)"
   ]
  },
  {
   "cell_type": "markdown",
   "metadata": {},
   "source": [
    "### Moving forward: Genealogies\n",
    "As we have seen, allele frequencies in populations can change over time due to genetic drift caused by the simple process of *randomly sampling* which parent's alleles make up the next generation in a finite sized population. Try changing the variable N is the code cell above from 1000 to 100000 and see how the results change. You should see that larger populations (larger N) have less volatility in allele frequencies over time. \n",
    "\n",
    "The **effective size** of a population (often shown as either N, Ne, or N$_e$) is an important parameter in population genetic models.  As we showed here it affects the rate of allele frequency change caused by genetic drift. This relationship between Ne and genetic drift has many consequences. Surprisingly, this relationship can be entirely explained by the effect of Ne on the probability that two random samples (e.g., gene copies in the population) share a common ancestor in a previous generation. In other words, Ne is related to the genealogy of gene copies in a population! This is the basis for two mathematical models we will discuss in the next notebook, the Wright-Fisher process and the coalescent."
   ]
  }
 ],
 "metadata": {
  "kernelspec": {
   "display_name": "Python 3 (ipykernel)",
   "language": "python",
   "name": "python3"
  },
  "language_info": {
   "codemirror_mode": {
    "name": "ipython",
    "version": 3
   },
   "file_extension": ".py",
   "mimetype": "text/x-python",
   "name": "python",
   "nbconvert_exporter": "python",
   "pygments_lexer": "ipython3",
   "version": "3.9.12"
  }
 },
 "nbformat": 4,
 "nbformat_minor": 4
}

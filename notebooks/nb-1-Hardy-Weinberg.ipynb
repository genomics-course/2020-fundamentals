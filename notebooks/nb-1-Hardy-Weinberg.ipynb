{
 "cells": [
  {
   "cell_type": "markdown",
   "metadata": {},
   "source": [
    "# Notebook 1: Hardy Weinberg\n",
    "\n",
    "\n",
    "### Notebook outline:\n",
    "1. Idealized populations and Hardy Weinberg\n",
    "2. Hardy Weinberg as a binomial sampling problem\n",
    "3. Sampling error and genetic drift.\n",
    "\n",
    "\n",
    "### Learning objectives: \n",
    "By the end of this notebook series you should:\n",
    "1. Know which assumptions underlie the definition of an 'idealized population'\n",
    "2. Understand why allele frequencies do not change in the absence of evolutionary processes.\n",
    "3. Be able to calculate genotype frequencies under Hardy-Weinberg equilibrium given allele frequencies at a locus.\n",
    "4. Understand why violations of the Hardy-Weinberg assumptions cause allele frequencies to change over generations.\n",
    "\n",
    "### Optional further reading:\n",
    "\n",
    "- Chapter 4 of Futuyma 4th edition"
   ]
  },
  {
   "cell_type": "code",
   "execution_count": null,
   "metadata": {},
   "outputs": [],
   "source": [
    "# we start by loading a common Python library containing many stats functions\n",
    "import numpy as np"
   ]
  },
  {
   "cell_type": "markdown",
   "metadata": {},
   "source": [
    "### Genetic variation in populations\n",
    "For the examples in this notebook we are focusing on variation at a single gene (A) that has two alleles (A$_1$ and A$_2$) in a single population. If a new mutation arose at this gene then we could consider additional alleles, such as A$_3$, but for simplicity we will assume only two alleles exist in the population. In fact, these types of simplifying assumptions are the topic of this notebook."
   ]
  },
  {
   "cell_type": "markdown",
   "metadata": {},
   "source": [
    "### Assumptions of an idealized population\n",
    "\n",
    "Population genetics is the study of allele frequencies in populations. Amazingly, much of the foundational work in this field was developed *even before we knew about DNA*, and involved only combining probability and statistics with Mendel's theory of [particulate (non-blending) inheritance](https://en.wikipedia.org/wiki/Mendelian_inheritance). \n",
    "\n",
    "Mendel showed that genes are discrete units, diploid organisms contain two copies at every gene, and that the two copies have equal probability of being passed on to offspring through the formation of haploid gametes. This simple law of *segregation and independent assortment* can be formalized as a probability statement, and used to develop probabilistic models.\n",
    "\n",
    "For this, we need to make some assumptions about the makeup of populations. An *idealized population* refers to a theoretical population that meets a number of unrealistic but useful assumptions. Most notably, that it is of *infinite size* and that the individuals within it are *randomly mating*. As we will see, these and other assumptions can be relaxed to allow for further insights into their effect on the model. Overall, the purpose of these population genetic models is to understand how and why allele frequencies (i.e., the relative abundance of A$_1$ versus A$_2$) change over time."
   ]
  },
  {
   "cell_type": "markdown",
   "metadata": {},
   "source": [
    "### Hardy-Weinberg \n",
    "The [*Hardy-Weinberg* equilibrium](https://en.wikipedia.org/wiki/Hardy%E2%80%93Weinberg_principle) is a statement that **the frequencies of alleles (variants at a gene) and genotypes (combinations of alleles at a gene) will remain constant** through time in an *idealized population* in the absence of <span style=\"color:red\">selection, mutation, migration, and genetic drift.</span> \n",
    "\n",
    "This is not actually a super surprising statement in terms of statistics, but more so in terms of evolution. It is identifying that <span style=\"color:red\">these processes are fundamental to explaining why allele frequencies change over time</span>, and also, that the process of *segregation of alleles* during Meiosis (i.e., Mendelian Inheritance) is not expected to change allele frequencies on its own. The concept of Hardy Weinberg equilibrium is demonstrated in the figure below from Chapter 4 of your textbook.\n",
    "\n",
    "<img src=https://eaton-lab.org/slides/fundamentals2019/session-9-popgen/data/hardy-weinberg.png style=\"width:60%\">\n",
    "\n",
    "\n",
    "<p style=\"text-align:center\">(Image source: Futuyma 4th Edition)</p>"
   ]
  },
  {
   "cell_type": "markdown",
   "metadata": {},
   "source": [
    "### Hardy-Weinberg Expectation: \n",
    "In the first cell of the figure above the population is initially not in Hardy-Weinberg equilibrium. We can tell this by looking at the genotype frequencies. There appears to be a deficit of heterozygotes. But what is the null expectation for the number of heterozygotes that should exist? Well, this is what Hardy-Weinberg can tell us. To answer that question we need to calculate the genotype frequencies after just one generation of random mating in an infinite-sized population starting with the allele frequencies that exist in the population currently.\n",
    "\n",
    "After a single generation **genotype frequencies** (e.g., A$_1$A$_1$, A$_1$A$_2$, and A$_2$A$_2$) will reach HW equilibrium, despite the fact that **allele frequencies** (e.g., A$_1$ and A$_2$) will not change. This expectation can be computed exactly using probability (here I will use the same genotype frequencies as in the figure above, but change the allele names to A and B, rather than A$_1$ and A$_2$ to make it easier to type)."
   ]
  },
  {
   "cell_type": "code",
   "execution_count": null,
   "metadata": {},
   "outputs": [],
   "source": [
    "# (A) diploid genotype frequencies in the population\n",
    "AA = 0.3\n",
    "AB = 0.0\n",
    "BB = 0.7"
   ]
  },
  {
   "cell_type": "markdown",
   "metadata": {},
   "source": [
    "Each AA parent produces two A alleles, each AB parent produces one A and one B allele, and each BB parent produces two B alleles. Based on this simple fact we can calculate the relative frequency of A and B alleles, which we label **p** and **q**. For example, p is equal to the frequency of AA homozygotes plus 1/2 the frequency of heterozygotes; q is equal to the frequency of BB homozygotes plus 1/2 the frequency of heterozygoes.\n",
    "\n",
    "You might ask, but what if some of the diploids produced more alleles than others? Well, for that to happen would be a manifestation of either drift or selection, both of which we are assuming to be absent from this model. This is key to remember."
   ]
  },
  {
   "cell_type": "code",
   "execution_count": null,
   "metadata": {},
   "outputs": [],
   "source": [
    "# (B) sample alleles from these diploid parents (e.g., haploid gametes)\n",
    "p = AA + (AB / 2)\n",
    "q = BB + (AB / 2)\n",
    "\n",
    "# show result\n",
    "print(p, q)"
   ]
  },
  {
   "cell_type": "markdown",
   "metadata": {},
   "source": [
    "Now that we know the frequency of alleles in the gametes we can calculate the frequency of genotypes formed in the next generation *by assuming that populations are randomly mating*. AA genotypes will occur with probability of sampling p twice (p * p), heterozygotes are the probability of sampling p and q (or q and p), and BB homozygotes are the probability of sampling q twice (q * q). Once again, note the importance of the assumptions underlying our idealized population for this model prediction."
   ]
  },
  {
   "cell_type": "code",
   "execution_count": null,
   "metadata": {},
   "outputs": [],
   "source": [
    "# (C) HW states that: p**2 + 2pq + q**2 = 1\n",
    "newAA = p * p\n",
    "newAB = 2 * p * q\n",
    "newBB = q * q\n",
    "\n",
    "# (D) the *genotype frequencies* have changed in the new generation\n",
    "print(newAA, newAB, newBB)"
   ]
  },
  {
   "cell_type": "markdown",
   "metadata": {},
   "source": [
    "We can see that the new genotypes frequencies are different from the previous generation, and they match the expectation from the figure. An important point is that after only one generation they have reached an *equilibrium*, meaning that we can repeat this same calculation for the next generation and the genotype and allele frequencies will not change. "
   ]
  },
  {
   "cell_type": "code",
   "execution_count": null,
   "metadata": {},
   "outputs": [],
   "source": [
    "# (D) it is important to note that the *allele frequencies* have NOT changed\n",
    "p = newAA + (newAB / 2)\n",
    "q = newBB + (newAB / 2)\n",
    "print(p, q)"
   ]
  },
  {
   "cell_type": "markdown",
   "metadata": {},
   "source": [
    "### Mendelian segregation and Binomial sampling\n",
    "One reason I stated in the beginning that the Hardy-Weinberg concept is not surprising from a statistical viewpoint is that it can be described by a very simple and common model in statistics, as a *binomial sampling problem*. A *Binomial* distribution is used in statistics to model the probability of binary outcomes (e.g., True vs. False). For a diploid organism, we can describe the three possible genotypes (A$_1$A$_1$, A$_1$A$_2$, and A$_2$A$_2$) at a locus with two alleles as the probability of sampling the A1 allele or not sampling the A1 allele in two independent trials (we do two trials because a diploid organism has two allele copies). Below this is demonstrated. "
   ]
  },
  {
   "cell_type": "code",
   "execution_count": null,
   "metadata": {},
   "outputs": [],
   "source": [
    "# This is just showing an example of drawing random samples from\n",
    "# a binomial distribution for 1 random outcome (0 or 1) repeated 20 times\n",
    "# where the probability of sampling a 1 is p=0.3\n",
    "np.random.binomial(n=1, p=0.3, size=20)"
   ]
  },
  {
   "cell_type": "code",
   "execution_count": null,
   "metadata": {},
   "outputs": [],
   "source": [
    "# Here I demonstrate similarly that we can draw two random samples\n",
    "# for each trial and get the sum (0, 1, or 2), repeated 20 times,\n",
    "# where the probability of sampling a 1 in a trial is p=0.3.\n",
    "np.random.binomial(n=2, p=0.3, size=20)"
   ]
  },
  {
   "cell_type": "code",
   "execution_count": null,
   "metadata": {},
   "outputs": [],
   "source": [
    "# OK, now let's use this to sample a large number of diploid samples,\n",
    "# these look just like above, a collection of 0s, 1s and 2s.\n",
    "new_genotypes = np.random.binomial(n=2, p=0.3, size=100000)\n",
    "\n",
    "# and calculate genotype frequencies \n",
    "BB = sum(new_genotypes == 0) / len(new_genotypes)\n",
    "AB = sum(new_genotypes == 1) / len(new_genotypes)\n",
    "AA = sum(new_genotypes == 2) / len(new_genotypes)\n",
    "print(AA, AB, BB)"
   ]
  },
  {
   "cell_type": "markdown",
   "metadata": {},
   "source": [
    "### Deviating from Hardy Weinberg.\n",
    "You'll notice that the results above are *close* to the expectation we calculated above, but *not exactly the same*. This is because even though we sampled a very large number of random samples, there is still a small amount of sampling error that can cause slight deviations from the expectation. This is an example of genetic drift! And it brings us to our next subject."
   ]
  },
  {
   "cell_type": "markdown",
   "metadata": {},
   "source": [
    "### Sampling error is genetic drift\n",
    "The binomial sampling method allows us to approximate the change in allele frequencies over multiple generations that is expected to occur by genetic drift in a finite sized population. It is important to note that by using finite populations sizes (i.e., allowing for drift) we have violated the assumptions of the Hardy-Weinberg model, and thus both genotype and allele frequencies are expected to change each generation. Our model now has an additional parameter, N, which we can modify and see its effect on the results. \n",
    "\n",
    "Below is the change in genotype frequencies after one generation when the population size is finite. We can see that they are still very close to the HW expectation. When N is larger it is closer to the expectation, when it is smaller the genotype frequencies deviate further from expectations."
   ]
  },
  {
   "cell_type": "code",
   "execution_count": null,
   "metadata": {},
   "outputs": [],
   "source": [
    "# model the allele frequencies after one generation of sampling in a finite population\n",
    "N = 1000\n",
    "p = 0.3\n",
    "\n",
    "# and calculate genotype frequencies \n",
    "new_genotypes = np.random.binomial(n=2, p=0.3, size=2*N)\n",
    "BB = sum(new_genotypes == 0) / len(new_genotypes)\n",
    "AB = sum(new_genotypes == 1) / len(new_genotypes)\n",
    "AA = sum(new_genotypes == 2) / len(new_genotypes)\n",
    "print(AA, AB, BB)"
   ]
  },
  {
   "cell_type": "markdown",
   "metadata": {},
   "source": [
    "### Simulate allele frequency change over multiple generations\n",
    "When we simulate this process over many generations even small fluctuations each generation can lead to large changes over time. Genetic drift is a random process (just random sampling!) so in each generation an allele may increase *or* decrease. \n",
    "\n",
    "Here we can see the change in allele frequency of the p allele in 8 replicate simulations from the same starting frequency (0.3). Sometimes it increases by drift, sometimes in decreases. This simulation uses the binomial sampling method described above."
   ]
  },
  {
   "cell_type": "code",
   "execution_count": null,
   "metadata": {},
   "outputs": [],
   "source": [
    "# model allele frequency change over 500 generations in population of size 1000 diploids\n",
    "N = 1000\n",
    "p = 0.3\n",
    "ngens = 500\n",
    "\n",
    "# calculate allele frequencies through time\n",
    "afreq = np.zeros((8, ngens))\n",
    "afreq[:, 0] = p\n",
    "for rep in range(8):\n",
    "    for gen in range(ngens - 1):\n",
    "        genotypes = np.random.binomial(n=2, p=afreq[rep, gen], size=2*N)\n",
    "        freqB = genotypes.sum() / (len(genotypes) * 2)\n",
    "        afreq[rep, gen + 1] = freqB\n",
    "        \n",
    "# plot the replicates\n",
    "import toyplot\n",
    "canvas = toyplot.Canvas(width=500, height=325)\n",
    "axes = canvas.cartesian(xlabel=\"generations\", ylabel=\"allele frequency (p)\")\n",
    "axes.plot(afreq.T);"
   ]
  },
  {
   "cell_type": "markdown",
   "metadata": {},
   "source": [
    "### Moving forward: Genealogies\n",
    "As we have seen, allele frequencies in populations can change over time due to genetic drift caused by the simple process of *randomly sampling* which parent's alleles make up the next generation in a finite sized population. Try changing the variable N is the code cell above from 1000 to 100000 and see how the results change. You should see that larger populations (larger N) have less volatility in allele frequencies over time. \n",
    "\n",
    "The **effective size** of a population (often shown as either N, Ne, or N$_e$) is an important parameter in population genetic models.  As we showed here it affects the rate of allele frequency change caused by genetic drift. This relationship between Ne and genetic drift has many consequences. Surprisingly, this relationship can be entirely explained by the effect of Ne on the probability that two random samples (e.g., gene copies in the population) share a common ancestor in a previous generation. In other words, Ne affects the genealogy of samples!. This is the basis for two mathematical models we will discuss in the next notebook, the Wright-Fisher process and the coalescent."
   ]
  }
 ],
 "metadata": {
  "kernelspec": {
   "display_name": "Python 3",
   "language": "python",
   "name": "python3"
  },
  "language_info": {
   "codemirror_mode": {
    "name": "ipython",
    "version": 3
   },
   "file_extension": ".py",
   "mimetype": "text/x-python",
   "name": "python",
   "nbconvert_exporter": "python",
   "pygments_lexer": "ipython3",
   "version": "3.7.9"
  }
 },
 "nbformat": 4,
 "nbformat_minor": 4
}

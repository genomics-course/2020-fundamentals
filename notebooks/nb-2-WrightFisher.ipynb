{
 "cells": [
  {
   "cell_type": "markdown",
   "id": "c117c6fe",
   "metadata": {},
   "source": [
    "# Wright-Fisher Model exercise\n",
    "\n",
    "### Learning objectives¶\n",
    "\n",
    "By the end of this lesson you will be familiar with:\n",
    "\n",
    "1. The Wright-Fisher (WF) process model.\n",
    "2. Assumptions underlying this model.\n",
    "3. calculating the probability two gene copies share a parent.\n",
    "4. extensions of this probabilistic thinking to studying genealogies."
   ]
  },
  {
   "cell_type": "code",
   "execution_count": null,
   "id": "83530cf2",
   "metadata": {},
   "outputs": [],
   "source": [
    "from toytree.learn import wright_fisher_simulation"
   ]
  },
  {
   "cell_type": "markdown",
   "id": "1bd1c260",
   "metadata": {},
   "source": [
    "### Wright-Fisher Process¶\n",
    "\n",
    "The Wright-Fisher process is considered one of the simplest models in population genetics. Compared to an idealized population, in which allele frequencies are always in HW equilibrium, and do not change, the WF process by default relaxes at least one assumption: population sizes are not infinite.\n",
    "\n",
    "The introduction of finite population sizes allows for allele frequencies to change over time, as genetic drift will cause an allele to randomly become either entirely fixed, or lost , at a rate that is a function of the population size (N). In this lesson we will simulate and visualize a population evolving under a WF process to understand how population size affects not only the rate of genetic drift, but also the genealogical relationships among samples. Ultimately, we will see that these two results are linked. Before we proceed, however, it is important to discuss some terminology."
   ]
  },
  {
   "cell_type": "markdown",
   "id": "3dc22950",
   "metadata": {},
   "source": [
    "### Effective population size¶\n",
    "\n",
    "One of the most challenging concepts in population genetics is that of effective population size (Ne). This is not to be confused with the population census size, which is the number \n",
    "of diploid individuals in a population (N).\n",
    "\n",
    "The concept of effective population size was first developed by Sewall Wright (1931, 1933) as a metric for describing the rate of genetic drift, or inbreeding. Specifically, it was developed in reference to populations evolving under a WF process, where an idealized population will experience changes in allele frequencies over time due to only a single evolutionary force, genetic drift caused by a finite population size.\n",
    "\n",
    "The effective population is usually smaller than the actual population census size, representing the effects of deviations from the assumptions of an idealized population. In the simplest WF process model, however, it is easy to interpret, since Ne is equivalent to the census population size, N. However, in more complex models, where we might add the effects of selection or migration, the two values would deviate. In that case, Ne becomes a summary statistic for the impacts of many possible evolutionary processes that violate the assumptions of an idealized population, causing genetic drift and inbreeding at higher rates than would occur in a population of the same size if it were an idealized population.\n",
    "\n",
    "For example, an idealized population of census size N=10,000 will have an effective population size of Ne=10,000. By contrast, a different population of census size N=10,000 that experiences non-random mating (or other violations of the simple WF model) may have an effective population size of Ne=6,000. This value can be interpreted to mean that the second population will experience genetic drift at the same rate as an idealized population of size N=6,000, even though it in fact contains 10,000 individuals.\n"
   ]
  },
  {
   "cell_type": "markdown",
   "id": "6613fe16",
   "metadata": {},
   "source": [
    "### Visualizing the WF process¶\n",
    "\n",
    "To help understand WF models and their connection to genealogies it is helpful to visualize stochastic outcomes of a WF process. The following visualizations are created using the Python package toyplot, and using random statistical sampling with numpy. Here we will simply need to execute the code below to generate and draw WF process outcomes. "
   ]
  },
  {
   "cell_type": "markdown",
   "id": "2bae8cc5",
   "metadata": {},
   "source": [
    "## Simulating WF process¶\n",
    "\n",
    "A WF process can be simulated quite easily. It is a discrete-time process where each generation 2N haploid gene copies exist in a population of census size N. Because the population is assumed to be randomly mating we can randomly assign haploid gene copies to be grouped into diploid individuals. This grouping has no effect on how the model operates unless some other model assumptions were to be violated, and is thus only for visualization purposes. To simulate one generation of the WF process one needs only to create a new generation of 2N haploid copies and to randomly sample 2N copies, with replacement, from the previous generation to serve as their parents.\n",
    "\n",
    "The result of this random mating process, played out over multiple generations, looks like the plot below. The process gives rise to a genealogy of gene copies. Lines are drawn to connect gene copies in each generation from parent to offspring. Grey rectangles represent diploid individuals, which contain two gene copies, represented by circles."
   ]
  },
  {
   "cell_type": "code",
   "execution_count": null,
   "id": "9d2fa296",
   "metadata": {},
   "outputs": [],
   "source": [
    "wright_fisher_simulation(time=11, popsize=10, show_diploids=True, sort_edges=False);"
   ]
  },
  {
   "cell_type": "markdown",
   "id": "8ae7f67c",
   "metadata": {},
   "source": [
    "### Interpreting WF genealogies¶\n",
    "\n",
    "This process is much easier to comprehend when the edges are sorted so that they are easier to read. Remember, however, that regardless of this sorting for visualization purposes, that the parent copy of each gene copy is still being randomly sampled each generation. This visualization thus retains the same probability of a gene copy leaving descendants to the next generation, but is biased in the appearance of greater selfing (one or both copies in an individual ending up together in an individual in the next generation). Thus the outlines of the diploid individuals could be hidden at this point, after sorting the edges, to be more accurate, which we'll do here.\n",
    "\n",
    "Time in this example flows from top to bottom, such that the gene copies at time=0 represent the present, and the ancestors of these gene copies, as well as other gene copies that did not leave descendants, exist in past generations (gens 1 - 9 in this visualization)."
   ]
  },
  {
   "cell_type": "code",
   "execution_count": null,
   "id": "6834e616",
   "metadata": {},
   "outputs": [],
   "source": [
    "wf = wright_fisher_simulation(time=10, popsize=11, sort_edges=True)"
   ]
  },
  {
   "cell_type": "markdown",
   "id": "409e8124",
   "metadata": {},
   "source": [
    "### Interpreting Time\n",
    "Understanding the flow of time in these diagrams is very important, and can sometimes be challenging, since different authors may present the same type of figure flowing top to bottom, or bottom to top. Fortunately, there is a simple trick to easily identify the flow of time, which is to identify the direction in which every node has an edge flowing. That direction will be backwards in time. This is because every gene copy has an ancestor, but not every gene copy will leave descendants. This is also the case in biological evolution: every living individual and gene copy has an ancestor from which they are descended.\n",
    "\n",
    "The plot below zooms in on just 3 generations of a WF process simulation. You can see that every gene copy has an edge pointing up (backwards in time), but many gene copies do not have an edge pointing down.\n",
    "\n",
    "As we said earlier, mating occurs randomly in this model, without regard to the way in which gene copies are grouped inside of diploid individuals. Consequently, it is possible for odd mating strategies to occur, such as selfing. In the figure below, generated with the random seed 123, look at the first individual from the left in generation 0. The first gene copy is inherited from the diploid individual above it in the previous generation, but the other copy comes from a very distant individual. By contrast, look at the individual second from the right in generation 0. It inherited both copies from the same parent (selfing). Mating strategies like this can occur by chance in this model. In fact, using this Wright-Fisher process is what defines the expected level of inbreeding based on random mating in a population of size N. "
   ]
  },
  {
   "cell_type": "code",
   "execution_count": null,
   "id": "36c8b7e2",
   "metadata": {},
   "outputs": [],
   "source": [
    "wright_fisher_simulation(\n",
    "    time=3, popsize=11, sort_edges=False, show_diploids=True, seed=123, height=275,\n",
    ");"
   ]
  },
  {
   "cell_type": "markdown",
   "id": "1bc29ff6",
   "metadata": {},
   "source": [
    "### Genetic drift\n",
    "A consequence of the fact that some gene copies do not produce descendants in the next generation, while others do, simply as an outcome of a random sampling process, is an example of genetic drift. We demonstrated in the last notebook how genetic drift can lead to changes in allele frequencies over time, causing the eventual loss of genetic variation at a locus by fixing one or another allele. \n",
    "\n",
    "We can follow this same process below in a more detailed way by assigning different allele states to the gene copies in our Wright-Fisher process. Here, in the first generation (generation 30) we randomly assign gene copies to different alleles (green or orange). This represents genetic variation at the beginning of this simulation where the allele frequencies are p=0.5 and q=0.5. \n",
    "\n",
    "Each generation as a new population of gene copies is created the allele frequencies in the population change slightly, representing differential replication of the different alleles in the previous generation simply due to chance. In this example, the green allele is lost by about generation 15 (the orange allele becomes fixed). "
   ]
  },
  {
   "cell_type": "code",
   "execution_count": null,
   "id": "2918f586",
   "metadata": {},
   "outputs": [],
   "source": [
    "wright_fisher_simulation(\n",
    "    time=31, popsize=11, sort_edges=True, seed=123, allele_frequency=0.5, \n",
    "    node_size=7, height=600\n",
    ");"
   ]
  },
  {
   "cell_type": "markdown",
   "id": "e8b35f57",
   "metadata": {},
   "source": [
    "### Genealogy of samples¶\n",
    "\n",
    "A consequence of this simple discrete random sampling process, repeated over multiple generations, is that any gene copy that exists at the present can trace back a tree-like genealogical history with any other gene copy at the present. As an example, we can randomly sample k gene copies at the present and focus on their individual ancestries. As we can see, they each trace back some number of generations before they eventually share a common ancestor; an ancestral gene copy from which they are all descended.\n",
    "\n",
    "This is demonstrated below. Here we sample 6 gene copies which are shown with a bold outline compared to other unsampled gene copies and their ancestors. All of the 6 gene copies that we sampled in this scenario coalesce into a single common ancestral gene copy at generation 9. (9 generation back from the present). If we ran it again from a different random seed, or if we sampled a different set of gene 6 gene copies the path connecting them would be slightly different. This tree of ancestor-descendant relationships among gene copies is called a **genealogy**. "
   ]
  },
  {
   "cell_type": "code",
   "execution_count": null,
   "id": "03d1cfa7",
   "metadata": {},
   "outputs": [],
   "source": [
    "wright_fisher_simulation(\n",
    "    time=31, popsize=11, sort_edges=True, seed=123, allele_frequency=0.5, \n",
    "    node_size=7, height=600, nsamples=6,\n",
    ");"
   ]
  },
  {
   "cell_type": "markdown",
   "id": "262ecfd1",
   "metadata": {},
   "source": [
    "<div class=\"alert alert-block alert-info\">\n",
    "    <h3>Action: Run this code to answer the questions</h3>\n",
    "    <p>\n",
    "        Try modifying the code below to explore how the population size (popsize) and number \n",
    "        of sampled gene copies (nsamples) affects the time until all sampled gene copies \n",
    "        coalesce. Stick with relatively small N values so the simulations \n",
    "        don't take too long. Play around with these two variables to explore their effects. \n",
    "        Each run will return a randomly sampled result given the parameter settings.\n",
    "        You may need to modify the (time) variable to simulate longer evolution if all\n",
    "        samples do not coalesce within the allowed time.\n",
    "\n",
    "- Does increasing N tend to make coalescence take longer or shorter?\n",
    "- Does sampling more alleles tend to make coalescence take longer or shorter?\n",
    "- Given a fixed N and k, do you see a lot of variation in the time until the 'nsampled' gene copies have coalesced when you run many replicates?\n",
    "        \n",
    "    </p>\n",
    "</div>"
   ]
  },
  {
   "cell_type": "code",
   "execution_count": null,
   "id": "ff748af6",
   "metadata": {
    "scrolled": false
   },
   "outputs": [],
   "source": [
    "wright_fisher_simulation(\n",
    "    popsize=10,              # keep this at 10\n",
    "    nsamples=2,              # change this to examine its effect\n",
    "    time=61,                 # change this if needed\n",
    "    height=800,              # change this if needed\n",
    "    sort_edges=True,         # do not change\n",
    "    seed=None,               # do not change\n",
    "    allele_frequency=0.5,    # do not change\n",
    "    node_size=7,             # do not change\n",
    ");"
   ]
  },
  {
   "cell_type": "markdown",
   "id": "2f85ecbe",
   "metadata": {},
   "source": [
    "<div class=\"alert alert-block alert-info\">\n",
    "    <h3>Action: Estimate time to coalescence for 2 samples</h3>\n",
    "    <p>\n",
    "        The code block below uses the parameter setting `nsamples=2`, meaning\n",
    "        that it will highlight the genealogical history for a random set\n",
    "        of two gene copies each iteration. Run this simulation at least\n",
    "        10 times and record the approximate generation each time at which the \n",
    "        two samples coalesce into a common ancestor. How many generations does \n",
    "        it take on average? Record your results in the next code block down to\n",
    "        calculate the mean. (Simulations should usually finish within 61 generations,\n",
    "        if not, just record it as 61 for now.)\n",
    "    </p>\n",
    "</div>"
   ]
  },
  {
   "cell_type": "code",
   "execution_count": null,
   "id": "3a972e1d",
   "metadata": {},
   "outputs": [],
   "source": [
    "wright_fisher_simulation(\n",
    "    popsize=10,              # keep this at 10\n",
    "    nsamples=2,              # change this to examine its effect\n",
    "    time=61,                 # change this if needed\n",
    "    height=800,              # change this if needed\n",
    "    sort_edges=True,         # do not change\n",
    "    node_size=7,             # do not change\n",
    ");"
   ]
  },
  {
   "cell_type": "code",
   "execution_count": null,
   "id": "185b13b9",
   "metadata": {},
   "outputs": [],
   "source": [
    "# write your 10 values inside the brackets here like: [10, 20, 25, 21, 30] ...\n",
    "coal_times = [0]\n",
    "\n",
    "# print the mean value \n",
    "print(f\"Mean coalescent time for 2 samples={sum(coal_times) / len(coal_times)}\")"
   ]
  },
  {
   "cell_type": "markdown",
   "id": "0ad5b70a",
   "metadata": {},
   "source": [
    "## Coalescence¶\n",
    "\n",
    "Sewall Wright noted that in a finite population evolving under a WF process the probability that two random gene copies will share a common ancestor in the previous generation is 1/2N, since there are 2N gene copies in the population. This type of event, where two descendant gene copies merge into a common ancestor, when viewed backwards in time, is termed a coalescence. It turns that this view of population histories, in the form of probabilistic statements about common ancestry, can be a very powerful way to describe evolution in populations. In fact, an entire statistical framework has been developed to study populations based on probabilistic expectations for the time and until some number of samples coalesce, called **Coalescent Theory**. This is the subject of the next lesson."
   ]
  },
  {
   "cell_type": "markdown",
   "id": "3cad76fc",
   "metadata": {},
   "source": [
    "## Summary¶\n",
    "\n",
    "- A Wright-Fisher process, or model, is a discrete-time process of reproduction in an idealized population of finite size over multiple generations.\n",
    "- Interpreting a WF-process plot requires understanding the direction of time, and which gene copies are ancestors or descendants of others.\n",
    "- The WF process gives rise to genealogical relationships among gene copies.\n",
    "- All gene copies in a population will eventually coalesce to a common ancestor.\n",
    "- The probability that two gene copies share a common ancestor 1 generation ago is 1 / 2Ne.\n"
   ]
  }
 ],
 "metadata": {
  "kernelspec": {
   "display_name": "Python 3 (ipykernel)",
   "language": "python",
   "name": "python3"
  },
  "language_info": {
   "codemirror_mode": {
    "name": "ipython",
    "version": 3
   },
   "file_extension": ".py",
   "mimetype": "text/x-python",
   "name": "python",
   "nbconvert_exporter": "python",
   "pygments_lexer": "ipython3",
   "version": "3.9.12"
  }
 },
 "nbformat": 4,
 "nbformat_minor": 5
}

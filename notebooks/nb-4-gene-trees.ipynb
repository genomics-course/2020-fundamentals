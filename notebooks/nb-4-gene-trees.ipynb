{
 "cells": [
  {
   "cell_type": "markdown",
   "metadata": {},
   "source": [
    "# Notebook 3: Gene tree estimation\n",
    "\n",
    "\n",
    "### Notebook outline:\n",
    "1. A visual introduction to genealogical variation. \n",
    "2. Connecting genealogies to species trees (demographic model).\n",
    "3. Connecting genealogies to sequence variation (observations)\n",
    "4. Connecting genealogies to gene trees (inference)\n",
    "\n",
    "### Learning objectives: \n",
    "By the end of this notebook series you should:\n",
    "1. Be familiar with the `toytree` and `ipcoal` Python libraries.\n",
    "2. Recognize the power of coalescent simulations to test hypotheses.\n",
    "3. Have an improved understanding of gene-tree/species-tree concepts.\n",
    "\n",
    "\n",
    "### Additional recommended reading:\n",
    "\n",
    "- [Rosenberg and Nordborg (2002) Genealogical trees, coalescent theory and the analysis of genetic polymorphisms. Nature Review Genetics](https://eaton-lab.org/slides/genomics/readings/Rosenberg-and-Nordborg-2002.pdf)"
   ]
  },
  {
   "cell_type": "markdown",
   "metadata": {},
   "source": [
    "### The ipyrad-analysis package\n",
    "The ipyrad-analysis (ipa) package is a wrapper for conveniently running many types of phylogenetic inference tools in jupyter notebooks. We will use it here to call the maximum likelihood inference software `RAxML` for gene tree inference."
   ]
  },
  {
   "cell_type": "code",
   "execution_count": null,
   "metadata": {},
   "outputs": [],
   "source": [
    "import ipcoal\n",
    "import toytree\n",
    "import ipyrad.analysis as ipa"
   ]
  },
  {
   "cell_type": "markdown",
   "metadata": {},
   "source": [
    "### Terminology (genealogies and gene trees)\n",
    "This notebook aims to demonstrate and reinforce an understanding of the difference between the *true* genealogical history of a set of samples, and the *inferred* gene tree history that is estimated from observable sequence data. The following terminology is helpful in this respect. \n",
    "\n",
    "\n",
    "**Genealogies** are the true unobserved histories of a set of samples from one or more populations. They share a common ancestor at some point in their past, and the relationships among the samples and their ancestors traces back a tree-like relationship. Different regions of a genome alignment will share different genealogical histories. The boundaries between these regions are also unobservable, and can only be estimated from information in observable sequences. \n",
    "\n",
    "**Gene trees** are estimates of the genealogies. Because we cannot observe genealogies directly, we must infer them from the data that we can observe, in the form of substitutions that evolved on those genealogies. Because we cannot observe the boundaries between regions with different genealogical histories, gene tree estimation often involves concatenating data from multiple linked genealogies.\n",
    "\n",
    "\n",
    "In this notebook we will examine some clear examples where inferred gene trees differ from the true genealogies due to estimation error. This is a common source of error in phylogenetic analyses that contributes to phylogenetic uncertainty. "
   ]
  },
  {
   "cell_type": "markdown",
   "metadata": {},
   "source": [
    "### Simulations\n",
    "In the examples below we will simulate sequence data on genealogies sampled from a species tree model with recombination. The effect of recombination may cause multiple distinct genealogies to underly the history of samples across the length of a locus/chromosome. \n",
    "If only a single genealogical history is present, then we expect that sequence data evolved on this genealogy should provide strong evidence for a single gene tree matching the  genealogy. If multiple genealogies are present then the sequence data evolved on those genealogies will be biased towards an average of their relationships. Several sources of error may exist in gene tree estimation, including (1) insufficient variation may exist within loci to resolve relationships; (2) genealogical variation causes the inferred gene tree to differ from underlying genealogies; (3) homoplasy (multiple mutations) can affect gene tree estimation. Other sources of error such as sequencing and alignment error are not included in this example."
   ]
  },
  {
   "cell_type": "code",
   "execution_count": null,
   "metadata": {},
   "outputs": [],
   "source": [
    "# generate a random species tree with 10 tips and a crown age of T generations\n",
    "tree = toytree.rtree.unittree(10, treeheight=1e6, seed=123)\n",
    "\n",
    "# draw the species tree\n",
    "tree.draw(ts='c', tip_labels=True);"
   ]
  },
  {
   "cell_type": "markdown",
   "metadata": {},
   "source": [
    "In this example we simulate a single locus that is 100bp in length on a species tree with very little discordance (low Ne). A print statement returns the number of genealogies that evolve across this length. A gene tree is inferred with RAxML and its topology is compared to the species tree and to the first genealogy in the simulated locus. In this case the inferred gene tree does not match the underlying genealogy or the species tree because there is little information in the 100bp locus. \n",
    "\n",
    "<div class=\"alert alert-success\">\n",
    "    <b>Action:</b> \n",
    "Try editing the `nsites=100` value below to a larger number and re-executing the cell to see its effect on the inferred gene tree. \n",
    "</div>"
   ]
  },
  {
   "cell_type": "code",
   "execution_count": null,
   "metadata": {},
   "outputs": [],
   "source": [
    "# setup simulation with small Ne\n",
    "model1 = ipcoal.Model(tree=tree, Ne=1e4, recomb=1e-9)\n",
    "\n",
    "# simulate a short uninformative locus\n",
    "model1.sim_loci(nloci=1, nsites=100)\n",
    "print(\"{} genealogies in {} sites\".format(model1.df.shape[0], model1.seqs.shape[2]))\n",
    "\n",
    "# infer a raxml gene tree at this locus\n",
    "model1.write_concat_to_phylip(name=\"test\", outdir=\"/tmp\")\n",
    "rax = ipa.raxml(data=\"/tmp/test.phy\", T=1, N=10)\n",
    "rax.run(force=True)\n",
    "\n",
    "# draw the genealogy and gene tree\n",
    "t0 = toytree.tree(model1.df.genealogy[0])\n",
    "t0.draw(edge_colors='orange', ts='c', tip_labels=True);\n",
    "t1 = toytree.tree(rax.trees.bipartitions)\n",
    "t1.draw(ts='c', tip_labels=True);\n",
    "\n",
    "# does the gene tree match the first genealogy in the locus?\n",
    "rf = t1.treenode.robinson_foulds(t0.treenode, unrooted_trees=True)[0]\n",
    "print(\"inferred gene tree matches the first genealogy: {} (rf={})\".format(rf == 0, rf))\n",
    "\n",
    "# does the gene tree match the species tree?\n",
    "rf = t1.treenode.robinson_foulds(tree.treenode, unrooted_trees=True)[0]\n",
    "print(\"inferred gene tree matches the species tree: {} (rf={})\".format(rf == 0, rf))"
   ]
  },
  {
   "cell_type": "markdown",
   "metadata": {},
   "source": [
    "When we extend the length of the locus to make it more informative (e.g., 2Kb) the resulting gene tree is better resolved and matches the genealogy and species tree."
   ]
  },
  {
   "cell_type": "code",
   "execution_count": null,
   "metadata": {},
   "outputs": [],
   "source": [
    "# setup simulation with small Ne\n",
    "model1 = ipcoal.Model(tree=tree, Ne=1e4)\n",
    "\n",
    "# simulate a short uninformative locus\n",
    "model1.sim_loci(1, 2000)\n",
    "print(\"{} genealogies in {} sites\".format(model1.df.shape[0], model1.seqs.shape[2]))\n",
    "\n",
    "# infer a gene tree at this locus\n",
    "model1.write_concat_to_phylip(name=\"test\", outdir=\"/tmp\")\n",
    "rax = ipa.raxml(data=\"/tmp/test.phy\", T=1, N=10)\n",
    "rax.run(force=True)\n",
    "\n",
    "# draw the genealogy and gene tree\n",
    "t0 = toytree.tree(model1.df.genealogy[0])\n",
    "t0.draw(edge_colors='orange', ts='c', tip_labels=True);\n",
    "t1 = toytree.tree(rax.trees.bipartitions)\n",
    "t1.draw(ts='c', tip_labels=True);\n",
    "\n",
    "# does the gene tree match the first genealogy in the locus?\n",
    "rf = t1.treenode.robinson_foulds(t0.treenode, unrooted_trees=True)[0]\n",
    "print(\"inferred gene tree matches the first genealogy: {} (rf={})\".format(rf == 0, rf))\n",
    "\n",
    "# does the gene tree match the species tree?\n",
    "rf = t1.treenode.robinson_foulds(tree.treenode, unrooted_trees=True)[0]\n",
    "print(\"inferred gene tree matches the species tree: {} (rf={})\".format(rf == 0, rf))"
   ]
  },
  {
   "cell_type": "markdown",
   "metadata": {},
   "source": [
    "As we learned in the last notebook, when we increase the effective population size any sampled genealogy is more likely to differ from the species tree. Let's examine this effect with sequence data and gene tree inference. Here I simulate a 2Kb locus again but on a species tree with Ne=2e5."
   ]
  },
  {
   "cell_type": "code",
   "execution_count": null,
   "metadata": {},
   "outputs": [],
   "source": [
    "# setup simulation with small Ne\n",
    "model1 = ipcoal.Model(tree=tree, Ne=2e5)\n",
    "\n",
    "# simulate a short uninformative locus\n",
    "model1.sim_loci(1, 2000)\n",
    "print(\"{} genealogies in {} sites\".format(model1.df.shape[0], model1.seqs.shape[2]))\n",
    "\n",
    "# infer a gene tree at this locus\n",
    "model1.write_concat_to_phylip(name=\"test\", outdir=\"/tmp\")\n",
    "rax = ipa.raxml(data=\"/tmp/test.phy\", T=1, N=10)\n",
    "rax.run(force=True)\n",
    "\n",
    "# draw the genealogy and gene tree\n",
    "t0 = toytree.tree(model1.df.genealogy[0])\n",
    "t0.draw(edge_colors='orange', ts='c', tip_labels=True);\n",
    "t1 = toytree.tree(rax.trees.bipartitions)\n",
    "t1.draw(ts='c', tip_labels=True);\n",
    "\n",
    "# does the gene tree match the first genealogy in the locus?\n",
    "rf = t1.treenode.robinson_foulds(t0.treenode, unrooted_trees=True)[0]\n",
    "print(\"inferred gene tree matches the first genealogy: {} (rf={})\".format(rf == 0, rf))\n",
    "\n",
    "# does the gene tree match the species tree?\n",
    "rf = t1.treenode.robinson_foulds(tree.treenode, unrooted_trees=True)[0]\n",
    "print(\"inferred gene tree matches the species tree: {} (rf={})\".format(rf == 0, rf))"
   ]
  },
  {
   "cell_type": "markdown",
   "metadata": {},
   "source": [
    "When there is greater genealogical discordance (high Ne) it is more likely that multiple linked genealogies within a locus will exhibit greater differences with each other, and thus that concatation of their sequences will affect gene tree inference. This problem occurs to greater extents when the tree is very deep in units of generation times, Ne is very large, and recombination rates are high. In the example below I set Ne=2e5, and I print the number of genealogies that are contained within a 10Kb locus. "
   ]
  },
  {
   "cell_type": "code",
   "execution_count": null,
   "metadata": {
    "scrolled": false
   },
   "outputs": [],
   "source": [
    "# setup simulation with small Ne\n",
    "model1 = ipcoal.Model(tree=tree, Ne=2e6)\n",
    "\n",
    "# simulate a short uninformative locus\n",
    "model1.sim_loci(1, 10000)\n",
    "print(\"{} genealogies in {} sites\".format(model1.df.shape[0], model1.seqs.shape[2]))\n",
    "\n",
    "# infer a gene tree at this locus\n",
    "model1.write_concat_to_phylip(name=\"test\", outdir=\"/tmp\")\n",
    "rax = ipa.raxml(data=\"/tmp/test.phy\", T=1, N=10)\n",
    "rax.run(force=True)\n",
    "\n",
    "# draw the genealogy and gene tree\n",
    "t0 = toytree.tree(model1.df.genealogy[0])\n",
    "t0.draw(edge_colors='orange', ts='c', tip_labels=True);\n",
    "t1 = toytree.tree(rax.trees.bipartitions)\n",
    "t1.draw(ts='c', tip_labels=True);\n",
    "\n",
    "# does the gene tree match the first genealogy in the locus?\n",
    "rf = t1.treenode.robinson_foulds(t0.treenode, unrooted_trees=True)[0]\n",
    "print(\"inferred gene tree matches the first genealogy: {} (rf={})\".format(rf == 0, rf))\n",
    "\n",
    "# does the gene tree match the species tree?\n",
    "rf = t1.treenode.robinson_foulds(tree.treenode, unrooted_trees=True)[0]\n",
    "print(\"inferred gene tree matches the species tree: {} (rf={})\".format(rf == 0, rf))"
   ]
  },
  {
   "cell_type": "markdown",
   "metadata": {},
   "source": [
    "### Gene tree estimation errors\n",
    "You can see that among the examples above the inferred gene trees rarely matched either the species tree, or even the true underlying genealog(y/ies) for a given locus. This demonstrates the connection between <kbd>genealogies</kbd> -> <kbd>sequence variation</kbd> -> <kbd>gene tree inference</kbd>. Please proceed to the next notebook (nb-3) where this is further examined in the context of species tree inference."
   ]
  }
 ],
 "metadata": {
  "kernelspec": {
   "display_name": "Python 3",
   "language": "python",
   "name": "python3"
  },
  "language_info": {
   "codemirror_mode": {
    "name": "ipython",
    "version": 3
   },
   "file_extension": ".py",
   "mimetype": "text/x-python",
   "name": "python",
   "nbconvert_exporter": "python",
   "pygments_lexer": "ipython3",
   "version": "3.7.9"
  }
 },
 "nbformat": 4,
 "nbformat_minor": 4
}
